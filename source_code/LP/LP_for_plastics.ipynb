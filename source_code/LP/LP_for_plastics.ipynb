{
 "cells": [
  {
   "cell_type": "code",
   "execution_count": 1,
   "metadata": {},
   "outputs": [
    {
     "name": "stdout",
     "output_type": "stream",
     "text": [
      "     con: array([1.19830306e-08])\n",
      "     fun: -14.57142854231215\n",
      " message: 'Optimization terminated successfully.'\n",
      "     nit: 5\n",
      "   slack: array([-3.70231543e-08,  3.85714287e+00])\n",
      "  status: 0\n",
      " success: True\n",
      "       x: array([6.42857141e+00, 5.71428573e-01, 9.82192085e-10])\n"
     ]
    }
   ],
   "source": [
    "from scipy import optimize as op\n",
    "import numpy as np\n",
    "c=np.array([2,3,-5])\n",
    "A_ub=np.array([[-2,5,-1],[1,3,1]])\n",
    "B_ub=np.array([-10,12])\n",
    "A_eq=np.array([[1,1,1]])\n",
    "B_eq=np.array([7])\n",
    "x1=(0,7)\n",
    "x2=(0,7)\n",
    "x3=(0,7)\n",
    "res=op.linprog(-c,A_ub,B_ub,A_eq,B_eq,bounds=(x1,x2,x3))\n",
    "print(res)"
   ]
  }
 ],
 "metadata": {
  "kernelspec": {
   "display_name": "Python 3",
   "language": "python",
   "name": "python3"
  },
  "language_info": {
   "codemirror_mode": {
    "name": "ipython",
    "version": 3
   },
   "file_extension": ".py",
   "mimetype": "text/x-python",
   "name": "python",
   "nbconvert_exporter": "python",
   "pygments_lexer": "ipython3",
   "version": "3.7.3"
  }
 },
 "nbformat": 4,
 "nbformat_minor": 2
}
