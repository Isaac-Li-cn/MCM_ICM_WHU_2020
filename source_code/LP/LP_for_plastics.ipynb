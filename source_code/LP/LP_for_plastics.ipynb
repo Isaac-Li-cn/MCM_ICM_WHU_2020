{
 "cells": [
  {
   "cell_type": "code",
   "execution_count": 5,
   "metadata": {
    "scrolled": true
   },
   "outputs": [
    {
     "name": "stdout",
     "output_type": "stream",
     "text": [
      "     con: array([], dtype=float64)\n",
      "     fun: -5118.466220382202\n",
      " message: 'The algorithm terminated successfully and determined that the problem is unbounded.'\n",
      "     nit: 7\n",
      "   slack: array([2.87751408e+06, 7.61902205e+05, 8.05944058e+09])\n",
      "  status: 3\n",
      " success: False\n",
      "       x: array([2.00057240e-01, 4.06780223e+00, 2.64234418e+00, 1.47268755e+00,\n",
      "       1.50049291e-01, 5.10989657e+03, 3.67104076e-02])\n"
     ]
    }
   ],
   "source": [
    "from scipy import optimize as op\n",
    "import numpy as np\n",
    "c=np.array([1,1,1,1,1,1,1])#目标函数，比如的目标函数为z = 2x1 + 3x2 -5x3\n",
    "'''\n",
    "标准的线性规划模型中只有≤号，所以要都转换成≤\n",
    "'''\n",
    "# A_ub=np.array([[700,265,325,255,180,0,180],[3000,1650,3685,6355,8000,0,5050],\n",
    "#                [1988.1,4427.4,4427.4,4765.8,3228.9,493.5,1959.9],\n",
    "#                [410000,410000,410000,410000,410000,410000,410000]])#不等式左边的的系数\n",
    "# A_ub=np.array([[700,265,325,255,180,0,180],[3000,1650,3685,6355,8000,0,5050],\n",
    "               #[1.9881,4.4274,4.4274,4.7658,3.2289,0.4935,1.9599]])\n",
    "               #[0.41,0.41,0.41,0.41,0.41,0.41,0.41]])#不等式左边的的系数\n",
    "A_ub=np.array([[700,265,325,255,180,0,180],[3000,1650,3685,6355,8000,0,5050],\n",
    "               [1988.1,4427.4,4427.4,4765.8,3228.9,493.5,1959.9]])#不等式左边的的系数\n",
    "#B_ub=np.array([288000000000,78969600000,806200000000000,485000000000])#不等式右边的系数\n",
    "B_ub=np.array([2880000,789696,8062000000])#不等式右边的系数\n",
    "#B_ub=np.array([288000000000,78969600000,806200000000])#不等式右边的系数\n",
    "#A_eq=np.array([[1,1,1]])#等式左边的系数\n",
    "#B_eq=np.array([7])#等式右边的系数\n",
    "x1=(0,288000000000)#这些是自变量的范围\n",
    "x2=(0,288000000000)\n",
    "x3=(0,288000000000)\n",
    "x4=(0,288000000000)\n",
    "x5=(0,288000000000)\n",
    "x6=(0,288000000000)\n",
    "x7=(0,288000000000)\n",
    "A_eq = None\n",
    "B_eq = None\n",
    "res=op.linprog(-c,A_ub,B_ub,A_eq,B_eq,bounds=(x1,x2,x3,x4,x5,x6,x7))#调用模型得到结果，这个函数是求最小值的，如果是最大值记得加个负号\n",
    "#res=op.linprog(-c,A_ub,B_ub,bounds=(x1,x2,x3,x4,x5,x6,x7))\n",
    "print(res)#重点关注fun和x就可以\n"
   ]
  },
  {
   "cell_type": "code",
   "execution_count": 22,
   "metadata": {},
   "outputs": [
    {
     "name": "stdout",
     "output_type": "stream",
     "text": [
      "     con: array([], dtype=float64)\n",
      "     fun: -0.11829268292009322\n",
      " message: 'Optimization terminated successfully.'\n",
      "     nit: 12\n",
      "   slack: array([2.87663215e+04, 7.45631876e+03, 8.06196091e+04, 2.76177303e-10])\n",
      "  status: 0\n",
      " success: True\n",
      "       x: array([0.01546026, 0.02092267, 0.01983434, 0.02693597, 0.00112978,\n",
      "       0.01293398, 0.02107568])\n"
     ]
    }
   ],
   "source": [
    "from scipy import optimize as op\n",
    "import numpy as np\n",
    "c=np.array([1,1,1,1,1,1,1])#目标函数，比如的目标函数为z = 2x1 + 3x2 -5x3\n",
    "\n",
    "A_ub=np.array([[700,265,325,255,180,0,180],[3000,1650,3685,6355,8000,0,5050],\n",
    "               [1.9881,4.4274,4.4274,4.7658,3.2289,0.4935,1.9599],\n",
    "               [41,41,41,41,41,41,41]])#不等式左边的的系数\n",
    "B_ub=np.array([28800.0000000,7896.9600000,80620.0000000,4.85000])#不等式右边的系数，同时除10000000\n",
    "res=op.linprog(-c,A_ub,B_ub)\n",
    "print(res)#重点关注fun和x就可以"
   ]
  },
  {
   "cell_type": "code",
   "execution_count": null,
   "metadata": {},
   "outputs": [],
   "source": [
    "from scipy import optimize as op\n",
    "import numpy as np\n",
    "c=np.array([1,1,1,1,1,1,1])#目标函数，比如的目标函数为z = 2x1 + 3x2 -5x3\n",
    "\n",
    "A_ub=np.array([[700,265,325,255,180,0,180],[3000,1650,3685,6355,8000,0,5050],\n",
    "               [1.9881,4.4274,4.4274,4.7658,3.2289,0.4935,1.9599]]\n",
    "B_ub=np.array([28800.0000000,7896.9600000,80620.0000000])#不等式右边的系数，同时除10000000\n",
    "res=op.linprog(-c,A_ub,B_ub,bounds=(x1,x2,x3,x4,x5,x6,x7))\n",
    "print(res)#重点关注fun和x就可以"
   ]
  }
 ],
 "metadata": {
  "kernelspec": {
   "display_name": "Python 3",
   "language": "python",
   "name": "python3"
  },
  "language_info": {
   "codemirror_mode": {
    "name": "ipython",
    "version": 3
   },
   "file_extension": ".py",
   "mimetype": "text/x-python",
   "name": "python",
   "nbconvert_exporter": "python",
   "pygments_lexer": "ipython3",
   "version": "3.7.3"
  }
 },
 "nbformat": 4,
 "nbformat_minor": 2
}
