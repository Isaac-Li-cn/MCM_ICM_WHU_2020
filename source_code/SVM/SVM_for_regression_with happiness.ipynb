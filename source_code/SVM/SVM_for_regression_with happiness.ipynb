{
 "cells": [
  {
   "cell_type": "code",
   "execution_count": 6,
   "metadata": {},
   "outputs": [
    {
     "data": {
      "text/plain": [
       "array([0.825])"
      ]
     },
     "execution_count": 6,
     "metadata": {},
     "output_type": "execute_result"
    }
   ],
   "source": [
    "from sklearn import svm\n",
    "X = [[0, 0], [2, 2]]\n",
    "y = [0.5, 2.5]\n",
    "clf = svm.SVR(kernel = 'poly')\n",
    "clf.fit(X, y)\n",
    "clf.predict([[1, 1]])"
   ]
  },
  {
   "cell_type": "code",
   "execution_count": 7,
   "metadata": {
    "scrolled": true
   },
   "outputs": [
    {
     "name": "stdout",
     "output_type": "stream",
     "text": [
      "(150, 4) (150,)\n",
      "(90, 4) (90,)\n",
      "(60, 4) (60,)\n",
      "0.9666666666666667\n"
     ]
    }
   ],
   "source": [
    "import numpy as np\n",
    "from sklearn.model_selection import train_test_split\n",
    "from sklearn import datasets\n",
    "from sklearn import svm\n",
    "\n",
    "iris = datasets.load_iris()\n",
    "print(iris.data.shape, iris.target.shape)\n",
    "\n",
    "X_train, X_test, y_train, y_test = train_test_split(iris.data, iris.target, test_size=0.4, random_state=0)\n",
    "\n",
    "print(X_train.shape, y_train.shape)\n",
    "print(X_test.shape, y_test.shape)\n",
    "\n",
    "clf = svm.SVC(kernel='linear', C=1).fit(X_train, y_train)\n",
    "print( clf.score(X_test, y_test) )"
   ]
  },
  {
   "cell_type": "code",
   "execution_count": 5,
   "metadata": {},
   "outputs": [],
   "source": [
    "import numpy as np\n",
    "from sklearn.model_selection import train_test_split\n",
    "from sklearn import svm\n",
    "from sklearn.metrics import mean_squared_error\n",
    "from sklearn.preprocessing import MinMaxScaler\n",
    "from sklearn.preprocessing import StandardScaler"
   ]
  },
  {
   "cell_type": "code",
   "execution_count": 74,
   "metadata": {
    "scrolled": false
   },
   "outputs": [
    {
     "name": "stdout",
     "output_type": "stream",
     "text": [
      "0.9129328046488553\n"
     ]
    },
    {
     "data": {
      "text/plain": [
       "'\\n下面是吴恩达的见解：\\n1. 如果Feature的数量很大，跟样本数量差不多，这时候选用LR或者是Linear Kernel的SVM\\n2. 如果Feature的数量比较小，样本数量一般，不算大也不算小，选用SVM+Gaussian Kernel\\n3. 如果Feature的数量比较小，而样本数量很多，需要手工添加一些feature变成第一种情况\\n\\n'"
      ]
     },
     "execution_count": 74,
     "metadata": {},
     "output_type": "execute_result"
    }
   ],
   "source": [
    "import numpy as np\n",
    "from sklearn.model_selection import train_test_split\n",
    "from sklearn import svm\n",
    "from sklearn.metrics import mean_squared_error\n",
    "from sklearn.preprocessing import MinMaxScaler\n",
    "from sklearn.preprocessing import StandardScaler\n",
    "import warnings\n",
    "\n",
    "warnings.filterwarnings('ignore')\n",
    "'''\n",
    "依次为中国、北美、亚太、西欧、印度、中东、南美、东欧、非洲、日本\n",
    "'''\n",
    "features = [[18240.9,5.31927809,5.226721437,1.081165791,1.160837412,0.741415501,0.472787708,0.028806841,0.022794275,1.764938593],#中国\n",
    "            [5816.5,7.384402835,7.247597134,1.479204416,1.481348991,0.834557652,0.611100912,0.435539722,0.287371516,2.187264442],#加拿大\n",
    "            [4599.7,7.356651225,7.211348615,1.484414935,1.510041952,0.843886793,0.601607382,0.47769925,0.30118373,2.065210819],#澳大利亚\n",
    "            [4047.5,6.783791761,6.644208689,1.44163394,1.49646008,0.805335939,0.508190036,0.492774159,0.265428066,1.704143524],#西欧\n",
    "            [3372.7,4.371522017,4.258478097,0.792221248,0.754372597,0.455427617,0.469987005,0.231538489,0.092226885,1.519117117],#印度\n",
    "            [2844.2,7.279853256,7.146146385,1.375382423,1.376289964,0.838404,0.405988604,0.330082655,0.0852421,2.801757336],#以色列\n",
    "            [1945.2,6.725469502,6.544530956,1.10735321,1.431306005,0.616552353,0.437453747,0.162349895,0.111092761,2.769267082],#巴西\n",
    "            [1762.1,5.594864963,5.405135037,1.198274374,1.337753177,0.637605608,0.3007406,0.046693042,0.09967158,1.879277945],#土耳其\n",
    "            [1214,4.82513379,4.644866477,0.989701807,0.997471392,0.520187259,0.282110155,0.128631443,0.114381365,1.702161074],#埃及\n",
    "            [1030.7,5.990719445,5.849280708,1.416915178,1.436337829,0.913475871,0.505625546,0.120572768,0.163760737,1.363223553],#日本\n",
    "            [1945.2,6.452020054,6.261979694,1.070622325,1.402182937,0.595027924,0.477487415,0.149014473,0.046668742,2.616068125],#哥伦比亚\n",
    "            [4047.5,6.515767802,6.368232022,1.430923462,1.387776852,0.844465852,0.470222116,0.129762307,0.172502428,2.005954742],#法国\n",
    "            [4599.7,6.509116856,6.338882717,1.127868772,1.425792456,0.647239029,0.580200732,0.57212311,0.031612735,2.039508343],#泰国\n",
    "            [2844.2,6.030274907,5.895724734,1.281778097,1.469282389,0.547349334,0.373783112,0.052263822,0.032962881,2.205607414],#俄罗斯\n",
    "            [1214,4.929435188,4.728564805,1.054698706,1.384788632,0.18708007,0.479246736,0.13936238,0.072509497,1.510908604],#南非\n",
    "            [2844.2,4.798224708,4.585775117,1.156873107,0.711551249,0.639333189,0.249322608,0.387242913,0.048761073,1.498734951],#伊朗\n",
    "            [4047.5,7.594444821,7.479555538,1.616463184,1.53352356,0.796666503,0.635422587,0.362012237,0.315963835,2.277026653],#挪威\n",
    "            [5816.5,7.074656748,6.911343313,1.546259284,1.419920564,0.774286628,0.505740523,0.392578781,0.135638788,2.218113422],#美国\n",
    "            [1762.1,6.177348412,6.018651687,1.325393558,1.505059242,0.712732911,0.295817465,0.136544481,0.024210852,2.097776651],#斯洛伐克\n",
    "            [2844.2,5.885180876,5.758819178,1.130776763,1.493149161,0.43772608,0.418271929,0.249924988,0.25927034,1.832909822]]#土库曼斯坦\n",
    "y = [5.272999763,7.315999985,7.28399992,\n",
    "             6.714000225,4.315000057,7.212999821,\n",
    "             6.635000229,5.5,4.735000134,5.920000076,\n",
    "             6.356999874,6.441999912,6.423999786,5.962999821,4.828999996,4.691999912,7.537000179,6.993000031,6.09800005,5.822000027]\n",
    "\n",
    "\n",
    "min_max_scaler = MinMaxScaler()\n",
    "\n",
    "features = min_max_scaler.fit_transform(features)\n",
    "\n",
    "# ss = StandardScaler()\n",
    "\n",
    "# features = ss.fit_transform(features)\n",
    "\n",
    "#from sklearn.decomposition import PCA\n",
    "#pca = PCA(n_components=1)\n",
    "\n",
    "#features = pca.fit_transform(features)\n",
    "\n",
    "#print(features)\n",
    "\n",
    "\n",
    "\n",
    "s = 0\n",
    "\n",
    "for i in range(20):\n",
    "    X_train, X_test, y_train, y_test = train_test_split(features, y, test_size=0.3, random_state=i)\n",
    "\n",
    "    #print(X_train)\n",
    "\n",
    "    #clf = svm.SVR(kernel = 'linear')\n",
    "    clf = svm.SVR(kernel = 'sigmoid')\n",
    "    #clf = svm.SVR(kernel = 'rbf')\n",
    "    clf.fit(X_train, y_train)\n",
    "    y_pred = clf.predict(X_test)\n",
    "    st = mean_squared_error(y_test, y_pred)\n",
    "    #print(st)\n",
    "    s = s + st\n",
    "    \n",
    "    #score = score + clf.score(X_test, y_test)\n",
    "    #print( clf.score(X_test, y_test) )\n",
    "\n",
    "print(s/10)\n",
    "\n",
    "'''\n",
    "下面是吴恩达的见解：\n",
    "1. 如果Feature的数量很大，跟样本数量差不多，这时候选用LR或者是Linear Kernel的SVM\n",
    "2. 如果Feature的数量比较小，样本数量一般，不算大也不算小，选用SVM+Gaussian Kernel\n",
    "3. 如果Feature的数量比较小，而样本数量很多，需要手工添加一些feature变成第一种情况\n",
    "\n",
    "'''"
   ]
  },
  {
   "cell_type": "code",
   "execution_count": 75,
   "metadata": {},
   "outputs": [
    {
     "data": {
      "image/png": "[encoded data removed]",
      "text/plain": [
       "<Figure size 432x288 with 1 Axes>"
      ]
     },
     "metadata": {
      "needs_background": "light"
     },
     "output_type": "display_data"
    }
   ],
   "source": [
    "################################################################################\n",
    "# 对学习过程进行可视化\n",
    "\n",
    "from sklearn.model_selection import learning_curve\n",
    "\n",
    "plt.figure()\n",
    "\n",
    "lin = svm.SVR(kernel = 'linear')\n",
    "sig = svm.SVR(kernel = 'sigmoid')\n",
    "rbf = svm.SVR(kernel = 'rbf') \n",
    "\n",
    "train_sizes1, train_scores_svr1, test_scores_svr1 = \\\n",
    "    learning_curve(lin, features, y, train_sizes=np.linspace(0.1, 1, 10),\n",
    "                   scoring=\"neg_mean_squared_error\", cv=10)\n",
    "train_sizes2, train_scores_svr2, test_scores_svr2 = \\\n",
    "    learning_curve(sig, features, y, train_sizes=np.linspace(0.1, 1, 10),\n",
    "                   scoring=\"neg_mean_squared_error\", cv=10)\n",
    "train_sizes3, train_scores_svr3, test_scores_svr3 = \\\n",
    "    learning_curve(rbf, features, y, train_sizes=np.linspace(0.1, 1, 10),\n",
    "                   scoring=\"neg_mean_squared_error\", cv=10)\n",
    " \n",
    "plt.plot(train_sizes1, -test_scores_svr1.mean(1), 'o-', color=\"r\",\n",
    "         label=\"lin\")\n",
    "plt.plot(train_sizes2, -test_scores_svr2.mean(1), 'o-', color=\"b\",\n",
    "         label=\"sig\")\n",
    "plt.plot(train_sizes3, -test_scores_svr3.mean(1), 'o-', color=\"y\",\n",
    "         label=\"rbf\")\n",
    " \n",
    "plt.xlabel(\"Train size\")\n",
    "plt.ylabel(\"Mean Squared Error\")\n",
    "plt.title('Learning curves')\n",
    "plt.legend(loc=\"best\")\n",
    " \n",
    "plt.show()"
   ]
  },
  {
   "cell_type": "code",
   "execution_count": 87,
   "metadata": {},
   "outputs": [
    {
     "ename": "AttributeError",
     "evalue": "'list' object has no attribute 'tolist'",
     "output_type": "error",
     "traceback": [
      "\u001b[0;31m---------------------------------------------------------------------------\u001b[0m",
      "\u001b[0;31mAttributeError\u001b[0m                            Traceback (most recent call last)",
      "\u001b[0;32m<ipython-input-87-d5cbdbdb0062>\u001b[0m in \u001b[0;36m<module>\u001b[0;34m\u001b[0m\n\u001b[1;32m     20\u001b[0m             \u001b[0;34m[\u001b[0m\u001b[0;36m1762.1\u001b[0m\u001b[0;34m,\u001b[0m\u001b[0;36m6.177348412\u001b[0m\u001b[0;34m,\u001b[0m\u001b[0;36m6.018651687\u001b[0m\u001b[0;34m,\u001b[0m\u001b[0;36m1.325393558\u001b[0m\u001b[0;34m,\u001b[0m\u001b[0;36m1.505059242\u001b[0m\u001b[0;34m,\u001b[0m\u001b[0;36m0.712732911\u001b[0m\u001b[0;34m,\u001b[0m\u001b[0;36m0.295817465\u001b[0m\u001b[0;34m,\u001b[0m\u001b[0;36m0.136544481\u001b[0m\u001b[0;34m,\u001b[0m\u001b[0;36m0.024210852\u001b[0m\u001b[0;34m,\u001b[0m\u001b[0;36m2.097776651\u001b[0m\u001b[0;34m]\u001b[0m\u001b[0;34m,\u001b[0m\u001b[0;31m#斯洛伐克\u001b[0m\u001b[0;34m\u001b[0m\u001b[0;34m\u001b[0m\u001b[0m\n\u001b[1;32m     21\u001b[0m             [2844.2,5.885180876,5.758819178,1.130776763,1.493149161,0.43772608,0.418271929,0.249924988,0.25927034,1.832909822]]#土库曼斯坦\n\u001b[0;32m---> 22\u001b[0;31m \u001b[0mfeatures\u001b[0m\u001b[0;34m.\u001b[0m\u001b[0mtolist\u001b[0m\u001b[0;34m(\u001b[0m\u001b[0;34m)\u001b[0m\u001b[0;34m\u001b[0m\u001b[0;34m\u001b[0m\u001b[0m\n\u001b[0m\u001b[1;32m     23\u001b[0m \u001b[0;34m\u001b[0m\u001b[0m\n\u001b[1;32m     24\u001b[0m \u001b[0;32mfor\u001b[0m \u001b[0mi\u001b[0m \u001b[0;32min\u001b[0m \u001b[0mrange\u001b[0m\u001b[0;34m(\u001b[0m\u001b[0;36m30\u001b[0m\u001b[0;34m)\u001b[0m\u001b[0;34m:\u001b[0m\u001b[0;34m\u001b[0m\u001b[0;34m\u001b[0m\u001b[0m\n",
      "\u001b[0;31mAttributeError\u001b[0m: 'list' object has no attribute 'tolist'"
     ]
    }
   ],
   "source": [
    "china = [18240.9,5.31927809,5.226721437,1.081165791,1.160837412,0.741415501,0.472787708,0.028806841,0.022794275,1.764938593]\n",
    "features = [[18240.9,5.31927809,5.226721437,1.081165791,1.160837412,0.741415501,0.472787708,0.028806841,0.022794275,1.764938593],#中国\n",
    "            [5816.5,7.384402835,7.247597134,1.479204416,1.481348991,0.834557652,0.611100912,0.435539722,0.287371516,2.187264442],#加拿大\n",
    "            [4599.7,7.356651225,7.211348615,1.484414935,1.510041952,0.843886793,0.601607382,0.47769925,0.30118373,2.065210819],#澳大利亚\n",
    "            [4047.5,6.783791761,6.644208689,1.44163394,1.49646008,0.805335939,0.508190036,0.492774159,0.265428066,1.704143524],#西欧\n",
    "            [3372.7,4.371522017,4.258478097,0.792221248,0.754372597,0.455427617,0.469987005,0.231538489,0.092226885,1.519117117],#印度\n",
    "            [2844.2,7.279853256,7.146146385,1.375382423,1.376289964,0.838404,0.405988604,0.330082655,0.0852421,2.801757336],#以色列\n",
    "            [1945.2,6.725469502,6.544530956,1.10735321,1.431306005,0.616552353,0.437453747,0.162349895,0.111092761,2.769267082],#巴西\n",
    "            [1762.1,5.594864963,5.405135037,1.198274374,1.337753177,0.637605608,0.3007406,0.046693042,0.09967158,1.879277945],#土耳其\n",
    "            [1214,4.82513379,4.644866477,0.989701807,0.997471392,0.520187259,0.282110155,0.128631443,0.114381365,1.702161074],#埃及\n",
    "            [1030.7,5.990719445,5.849280708,1.416915178,1.436337829,0.913475871,0.505625546,0.120572768,0.163760737,1.363223553],#日本\n",
    "            [1945.2,6.452020054,6.261979694,1.070622325,1.402182937,0.595027924,0.477487415,0.149014473,0.046668742,2.616068125],#哥伦比亚\n",
    "            [4047.5,6.515767802,6.368232022,1.430923462,1.387776852,0.844465852,0.470222116,0.129762307,0.172502428,2.005954742],#法国\n",
    "            [4599.7,6.509116856,6.338882717,1.127868772,1.425792456,0.647239029,0.580200732,0.57212311,0.031612735,2.039508343],#泰国\n",
    "            [2844.2,6.030274907,5.895724734,1.281778097,1.469282389,0.547349334,0.373783112,0.052263822,0.032962881,2.205607414],#俄罗斯\n",
    "            [1214,4.929435188,4.728564805,1.054698706,1.384788632,0.18708007,0.479246736,0.13936238,0.072509497,1.510908604],#南非\n",
    "            [2844.2,4.798224708,4.585775117,1.156873107,0.711551249,0.639333189,0.249322608,0.387242913,0.048761073,1.498734951],#伊朗\n",
    "            [4047.5,7.594444821,7.479555538,1.616463184,1.53352356,0.796666503,0.635422587,0.362012237,0.315963835,2.277026653],#挪威\n",
    "            [5816.5,7.074656748,6.911343313,1.546259284,1.419920564,0.774286628,0.505740523,0.392578781,0.135638788,2.218113422],#美国\n",
    "            [1762.1,6.177348412,6.018651687,1.325393558,1.505059242,0.712732911,0.295817465,0.136544481,0.024210852,2.097776651],#斯洛伐克\n",
    "            [2844.2,5.885180876,5.758819178,1.130776763,1.493149161,0.43772608,0.418271929,0.249924988,0.25927034,1.832909822]]#土库曼斯坦\n",
    "features.tolist()\n",
    "\n",
    "for i in range(30):\n",
    "    i = i*1000\n",
    "    china[0] = i\n",
    "\n",
    "    features.append(china)\n",
    "    print(features)\n",
    "    \n",
    "# #print(features)\n",
    "# for j in range(20,39):\n",
    "#     for i in range(30):\n",
    "#         i = i*1000\n",
    "#         features[j][0] = i\n",
    "        \n",
    "# print(features)\n",
    "    min_max_scaler = MinMaxScaler()\n",
    "\n",
    "    features = min_max_scaler.fit_transform(features)\n",
    "\n",
    "#     ss = StandardScaler()\n",
    "\n",
    "#     features = ss.fit_transform(features)\n",
    "#     y_pred = clf.predict(china)\n",
    "#     print(y_pred)\n",
    "    "
   ]
  },
  {
   "cell_type": "code",
   "execution_count": 60,
   "metadata": {},
   "outputs": [
    {
     "data": {
      "text/plain": [
       "dict_keys(['C', 'cache_size', 'coef0', 'degree', 'epsilon', 'gamma', 'kernel', 'max_iter', 'shrinking', 'tol', 'verbose'])"
      ]
     },
     "execution_count": 60,
     "metadata": {},
     "output_type": "execute_result"
    }
   ],
   "source": [
    "lin.get_params().keys()"
   ]
  },
  {
   "cell_type": "code",
   "execution_count": 3,
   "metadata": {},
   "outputs": [
    {
     "name": "stdout",
     "output_type": "stream",
     "text": [
      "[5.272999763, 7.315999985, 7.28399992, 6.714000225, 4.315000057, 7.212999821, 6.635000229, 5.5, 4.735000134, 5.920000076, 6.356999874, 6.441999912, 6.423999786, 5.962999821, 4.828999996, 4.691999912, 7.537000179, 6.993000031, 6.09800005, 5.822000027]\n"
     ]
    }
   ],
   "source": [
    "happiness = [5.272999763,7.315999985,7.28399992,\n",
    "             6.714000225,4.315000057,7.212999821,\n",
    "             6.635000229,5.5,4.735000134,5.920000076,\n",
    "             6.356999874,6.441999912,6.423999786,5.962999821,4.828999996,4.691999912,7.537000179,6.993000031,6.09800005,5.822000027]\n",
    "print(happiness)"
   ]
  },
  {
   "cell_type": "code",
   "execution_count": null,
   "metadata": {},
   "outputs": [],
   "source": [
    "'''\n",
    "s = 0\n",
    "\n",
    "for i in range(10):\n",
    "    X_train, X_test, y_train, y_test = train_test_split(features, happiness, test_size=0.3, random_state=i)\n",
    "\n",
    "    #print(X_train)\n",
    "\n",
    "    clf = svm.SVR(kernel = 'poly')\n",
    "    clf.fit(X_train, y_train)\n",
    "    y_pred = clf.predict(X_test)\n",
    "    st = mean_squared_error(y_test, y_pred)\n",
    "    s = s + st\n",
    "    \n",
    "    #score = score + clf.score(X_test, y_test)\n",
    "    #print( clf.score(X_test, y_test) )\n",
    "\n",
    "\n",
    "X_train, X_test, y_train, y_test = train_test_split(features, happiness, test_size=0.3, random_state=3)\n",
    "\n",
    "    #print(X_train)\n",
    "\n",
    "clf = svm.SVR(kernel = 'poly')\n",
    "clf.fit(X_train, y_train)\n",
    "y_pred = clf.predict(X_test)\n",
    "st = mean_squared_error(y_test, y_pred)\n",
    "print(st)\n",
    "#s = s + st\n",
    "#print(s/10)\n",
    "\n",
    "'''"
   ]
  },
  {
   "cell_type": "code",
   "execution_count": 1,
   "metadata": {},
   "outputs": [
    {
     "name": "stdout",
     "output_type": "stream",
     "text": [
      "train_index [2 3] test_index [0 1]\n",
      "train_index [0 1] test_index [2 3]\n"
     ]
    }
   ],
   "source": [
    "from sklearn.model_selection import KFold\n",
    "import numpy as np\n",
    "from sklearn import svm\n",
    "\n",
    "features = [[1,1,1,1,1],\n",
    "            [2,2,2,2,2],\n",
    "            [3,3,3,3,3],\n",
    "            [4,4,4,4,4],\n",
    "            [5,5,5,5,5],\n",
    "            [6,6,6,6,6],\n",
    "            [7,7,7,7,7],\n",
    "            [8,8,8,8,8],\n",
    "            [9,9,9,9,9],\n",
    "            [10,10,10,10,10]]\n",
    "happiness = [1,2,3,4,5,6,7,8,9,10]\n",
    "\n",
    "kf = KFold(n_splits=2)\n",
    "for train_index, test_index in kf.split(features):\n",
    "    print('train_index', train_index, 'test_index', test_index)\n",
    "    train_X, train_y = features[train_index], y[train_index]\n",
    "    test_X, test_y = features[test_index], y[test_index]"
   ]
  },
  {
   "cell_type": "code",
   "execution_count": 4,
   "metadata": {},
   "outputs": [
    {
     "name": "stderr",
     "output_type": "stream",
     "text": [
      "/home/liyunzhe/Downloads/enter/lib/python3.7/site-packages/sklearn/svm/base.py:193: FutureWarning: The default value of gamma will change from 'auto' to 'scale' in version 0.22 to account better for unscaled features. Set gamma explicitly to 'auto' or 'scale' to avoid this warning.\n",
      "  \"avoid this warning.\", FutureWarning)\n",
      "/home/liyunzhe/Downloads/enter/lib/python3.7/site-packages/sklearn/svm/base.py:193: FutureWarning: The default value of gamma will change from 'auto' to 'scale' in version 0.22 to account better for unscaled features. Set gamma explicitly to 'auto' or 'scale' to avoid this warning.\n",
      "  \"avoid this warning.\", FutureWarning)\n",
      "/home/liyunzhe/Downloads/enter/lib/python3.7/site-packages/sklearn/svm/base.py:193: FutureWarning: The default value of gamma will change from 'auto' to 'scale' in version 0.22 to account better for unscaled features. Set gamma explicitly to 'auto' or 'scale' to avoid this warning.\n",
      "  \"avoid this warning.\", FutureWarning)\n"
     ]
    },
    {
     "name": "stdout",
     "output_type": "stream",
     "text": [
      "[-32.2191564   -2.42251853  -4.96052516  -3.91839855 -58.01336404]\n"
     ]
    },
    {
     "name": "stderr",
     "output_type": "stream",
     "text": [
      "/home/liyunzhe/Downloads/enter/lib/python3.7/site-packages/sklearn/svm/base.py:193: FutureWarning: The default value of gamma will change from 'auto' to 'scale' in version 0.22 to account better for unscaled features. Set gamma explicitly to 'auto' or 'scale' to avoid this warning.\n",
      "  \"avoid this warning.\", FutureWarning)\n",
      "/home/liyunzhe/Downloads/enter/lib/python3.7/site-packages/sklearn/svm/base.py:193: FutureWarning: The default value of gamma will change from 'auto' to 'scale' in version 0.22 to account better for unscaled features. Set gamma explicitly to 'auto' or 'scale' to avoid this warning.\n",
      "  \"avoid this warning.\", FutureWarning)\n"
     ]
    }
   ],
   "source": [
    "from sklearn import datasets\n",
    "from sklearn import svm\n",
    "from sklearn.model_selection import cross_val_score\n",
    "\n",
    "features = [[1,1,1,1,1],\n",
    "            [2,2,2,2,2],\n",
    "            [3,3,3,3,3],\n",
    "            [4,4,4,4,4],\n",
    "            [5,5,5,5,5],\n",
    "            [6,6,6,6,6],\n",
    "            [7,7,7,7,7],\n",
    "            [8,8,8,8,8],\n",
    "            [9,9,9,9,9],\n",
    "            [10,10,10,10,10]]\n",
    "happiness = [1,2,3,4,5,6,7,8,9,10]\n",
    "\n",
    "clf = svm.SVR(kernel = 'poly')\n",
    "\n",
    "scores = cross_val_score(clf, features, happiness, cv=5)\n",
    "\n",
    "print(scores)"
   ]
  }
 ],
 "metadata": {
  "kernelspec": {
   "display_name": "Python 3",
   "language": "python",
   "name": "python3"
  },
  "language_info": {
   "codemirror_mode": {
    "name": "ipython",
    "version": 3
   },
   "file_extension": ".py",
   "mimetype": "text/x-python",
   "name": "python",
   "nbconvert_exporter": "python",
   "pygments_lexer": "ipython3",
   "version": "3.7.3"
  }
 },
 "nbformat": 4,
 "nbformat_minor": 2
}
